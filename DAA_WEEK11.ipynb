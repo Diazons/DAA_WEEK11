{
  "nbformat": 4,
  "nbformat_minor": 0,
  "metadata": {
    "colab": {
      "provenance": []
    },
    "kernelspec": {
      "name": "python3",
      "display_name": "Python 3"
    },
    "language_info": {
      "name": "python"
    }
  },
  "cells": [
    {
      "cell_type": "code",
      "execution_count": 44,
      "metadata": {
        "id": "j6Fn7YAC6HmI"
      },
      "outputs": [],
      "source": [
        "#a-----b\n",
        "#/     /\n",
        "#/     /\n",
        "#c-----d-----e"
      ]
    },
    {
      "cell_type": "code",
      "source": [
        "#create the dictionary with graph elements\n",
        "graph = {\"a\" : [\"b\", \"c\"],\n",
        "         \"b\" : [\"a\", \"d\"],\n",
        "         \"c\" : [\"a\", \"d\"],\n",
        "         \"d\" : [\"e\"],\n",
        "         \"e\" : [\"d\"]\n",
        "         }\n",
        "\n",
        "#print the graph\n",
        "print(graph)"
      ],
      "metadata": {
        "colab": {
          "base_uri": "https://localhost:8080/"
        },
        "id": "H40UUniy8Msa",
        "outputId": "268525bb-7023-4f6a-94c1-ae9d50b56abb"
      },
      "execution_count": 45,
      "outputs": [
        {
          "output_type": "stream",
          "name": "stdout",
          "text": [
            "{'a': ['b', 'c'], 'b': ['a', 'd'], 'c': ['a', 'd'], 'd': ['e'], 'e': ['d']}\n"
          ]
        }
      ]
    },
    {
      "cell_type": "code",
      "source": [
        "graph = {\"T\" : [\"U\", \"W\"],\n",
        "         \"U\" : [\"T\", \"V\"],\n",
        "         \"V\" : [\"U\", \"X\"],\n",
        "         \"X\" : [\"V\", \"W\"],\n",
        "         \"W\" : [\"T\", \"Z\"],\n",
        "         \"W\" : [\"X\", \"Z\"],\n",
        "         \"W\" : [\"Z\"],\n",
        "         \"X\" : [\"W\", \"S\"],\n",
        "         \"X\" : [\"S\"],\n",
        "         \"S\" : [\"X\"]\n",
        "        }\n",
        "\n",
        "print(graph)"
      ],
      "metadata": {
        "colab": {
          "base_uri": "https://localhost:8080/"
        },
        "id": "cw9bFaBt-eb1",
        "outputId": "266c1d83-b7ac-42ca-ce3d-cab11556e864"
      },
      "execution_count": 46,
      "outputs": [
        {
          "output_type": "stream",
          "name": "stdout",
          "text": [
            "{'T': ['U', 'W'], 'U': ['T', 'V'], 'V': ['U', 'X'], 'X': ['S'], 'W': ['Z'], 'S': ['X']}\n"
          ]
        }
      ]
    },
    {
      "cell_type": "code",
      "source": [
        "graph = {\"R\" : [\"O\", \"L\"],\n",
        "         \"O\" : [\"R\", \"P\"],\n",
        "         \"M\" : [\"O\", \"N\"],\n",
        "         \"L\" : [\"R\", \"P\"],\n",
        "         \"P\" : [\"O\", \"N\"],\n",
        "         \"N\" : [\"P\", \"M\"],\n",
        "         }\n",
        "\n",
        "print(graph)"
      ],
      "metadata": {
        "colab": {
          "base_uri": "https://localhost:8080/"
        },
        "id": "A0bO1CKpBHC9",
        "outputId": "1efa6691-157d-4b1b-fb0b-c94673a9acee"
      },
      "execution_count": 47,
      "outputs": [
        {
          "output_type": "stream",
          "name": "stdout",
          "text": [
            "{'R': ['O', 'L'], 'O': ['R', 'P'], 'M': ['O', 'N'], 'L': ['R', 'P'], 'P': ['O', 'N'], 'N': ['P', 'M']}\n"
          ]
        }
      ]
    },
    {
      "cell_type": "code",
      "source": [
        "class graph:\n",
        "    def __init__(self,gdict=None):\n",
        "        if gdict is None:\n",
        "            gdict = []\n",
        "        self.gdict = gdict\n",
        "\n",
        "#get the keys of the dictionary\n",
        "    def getVertices(self):\n",
        "        return list(self.gdict.keys())\n",
        "\n",
        "#Create the dictionary with graph elements\n",
        "graph_elements = {\"a\" : [\"b\", \"c\"],\n",
        "         \"b\" : [\"a\", \"d\"],\n",
        "         \"c\" : [\"a\", \"d\"],\n",
        "         \"d\" : [\"e\"],\n",
        "         \"e\" : [\"d\"]\n",
        "         }\n",
        "\n",
        "g = graph(graph_elements)\n",
        "\n",
        "print(g.getVertices())"
      ],
      "metadata": {
        "colab": {
          "base_uri": "https://localhost:8080/"
        },
        "id": "v-7kCk0-EFAw",
        "outputId": "5d8b6eae-350b-4538-9a06-7dbafa6cf881"
      },
      "execution_count": 48,
      "outputs": [
        {
          "output_type": "stream",
          "name": "stdout",
          "text": [
            "['a', 'b', 'c', 'd', 'e']\n"
          ]
        }
      ]
    },
    {
      "cell_type": "code",
      "source": [
        "class graph:\n",
        "    def __init__(self,gdict=None):\n",
        "        if gdict is None:\n",
        "            gdict = []\n",
        "        self.gdict = gdict\n",
        "\n",
        "#get the keys of the dictionary\n",
        "    def getVertices(self):\n",
        "        return list(self.gdict.keys())\n",
        "\n",
        "#Create the dictionary with graph elements\n",
        "graph_elements = {\"T\" : [\"U\", \"W\"],\n",
        "         \"U\" : [\"T\", \"V\"],\n",
        "         \"V\" : [\"U\", \"X\"],\n",
        "         \"X\" : [\"V\", \"W\"],\n",
        "         \"W\" : [\"T\", \"Z\"],\n",
        "         \"W\" : [\"X\", \"Z\"],\n",
        "         \"W\" : [\"Z\"],\n",
        "         \"X\" : [\"W\", \"S\"],\n",
        "         \"X\" : [\"S\"],\n",
        "         \"S\" : [\"X\"]\n",
        "        }\n",
        "\n",
        "g = graph(graph_elements)\n",
        "\n",
        "print(g.getVertices())"
      ],
      "metadata": {
        "colab": {
          "base_uri": "https://localhost:8080/"
        },
        "id": "uLcUB0fAIizS",
        "outputId": "6312cdab-f479-4baf-8c89-8298f022973a"
      },
      "execution_count": 49,
      "outputs": [
        {
          "output_type": "stream",
          "name": "stdout",
          "text": [
            "['T', 'U', 'V', 'X', 'W', 'S']\n"
          ]
        }
      ]
    },
    {
      "cell_type": "code",
      "source": [
        "class graph:\n",
        "    def __init__(self,gdict=None):\n",
        "        if gdict is None:\n",
        "            gdict = []\n",
        "        self.gdict = gdict\n",
        "\n",
        "#get the keys of the dictionary\n",
        "    def getVertices(self):\n",
        "        return list(self.gdict.keys())\n",
        "\n",
        "#Create the dictionary with graph elements\n",
        "graph_elements ={\"R\" : [\"O\", \"L\"],\n",
        "         \"O\" : [\"R\", \"P\"],\n",
        "         \"M\" : [\"O\", \"N\"],\n",
        "         \"L\" : [\"R\", \"P\"],\n",
        "         \"P\" : [\"O\", \"N\"],\n",
        "         \"N\" : [\"P\", \"M\"],\n",
        "         }\n",
        "\n",
        "\n",
        "g = graph(graph_elements)\n",
        "\n",
        "print(g.getVertices())"
      ],
      "metadata": {
        "colab": {
          "base_uri": "https://localhost:8080/"
        },
        "id": "9VmAv5FVIyc2",
        "outputId": "48905c6b-ac01-4a88-fb96-82f2a4a7f53a"
      },
      "execution_count": 50,
      "outputs": [
        {
          "output_type": "stream",
          "name": "stdout",
          "text": [
            "['R', 'O', 'M', 'L', 'P', 'N']\n"
          ]
        }
      ]
    },
    {
      "cell_type": "code",
      "source": [
        "class graph:\n",
        "    def __init__(self,gdict=None):\n",
        "        if gdict is None:\n",
        "            gdict = {}\n",
        "        self.gdict = gdict\n",
        "\n",
        "    def edges(self): \n",
        "        return self.findedges()\n",
        "\n",
        "#find the distinc list of edges\n",
        "    def findedges(self):\n",
        "        edgename = []\n",
        "        for vrtx in self.gdict:\n",
        "            for nxtvrtx in self.gdict[vrtx]:\n",
        "              if (nxtvrtx, vrtx) not in edgename:\n",
        "                edgename.append({vrtx, nxtvrtx})\n",
        "        return edgename\n",
        "\n",
        "#create the dictionary with graph elements\n",
        "graph_elements = {\"a\" : [\"b\", \"c\"],\n",
        "         \"b\" : [\"a\", \"d\"],\n",
        "         \"c\" : [\"a\", \"d\"],\n",
        "         \"d\" : [\"e\"],\n",
        "         \"e\" : [\"d\"]\n",
        "         }\n",
        "\n",
        "g = graph(graph_elements)\n",
        "\n",
        "print(g.edges())"
      ],
      "metadata": {
        "colab": {
          "base_uri": "https://localhost:8080/"
        },
        "id": "BKtYqMbBJHSb",
        "outputId": "ebd4bd67-0b4e-495a-aa95-9fdd89560127"
      },
      "execution_count": 51,
      "outputs": [
        {
          "output_type": "stream",
          "name": "stdout",
          "text": [
            "[{'a', 'b'}, {'a', 'c'}, {'a', 'b'}, {'b', 'd'}, {'a', 'c'}, {'d', 'c'}, {'d', 'e'}, {'d', 'e'}]\n"
          ]
        }
      ]
    },
    {
      "cell_type": "code",
      "source": [
        "class graph:\n",
        "    def __init__(self,gdict=None):\n",
        "        if gdict is None:\n",
        "            gdict = {}\n",
        "        self.gdict = gdict\n",
        "\n",
        "    def edges(self): \n",
        "        return self.findedges()\n",
        "\n",
        "#find the distinc list of edges\n",
        "    def findedges(self):\n",
        "        edgename = []\n",
        "        for vrtx in self.gdict:\n",
        "            for nxtvrtx in self.gdict[vrtx]:\n",
        "              if (nxtvrtx, vrtx) not in edgename:\n",
        "                edgename.append({vrtx, nxtvrtx})\n",
        "        return edgename\n",
        "\n",
        "#create the dictionary with graph elements\n",
        "graph_elements = {\"T\" : [\"U\", \"W\"],\n",
        "         \"U\" : [\"T\", \"V\"],\n",
        "         \"V\" : [\"U\", \"X\"],\n",
        "         \"X\" : [\"V\", \"W\"],\n",
        "         \"W\" : [\"T\", \"Z\"],\n",
        "         \"W\" : [\"X\", \"Z\"],\n",
        "         \"W\" : [\"Z\"],\n",
        "         \"X\" : [\"W\", \"S\"],\n",
        "         \"X\" : [\"S\"],\n",
        "         \"S\" : [\"X\"]\n",
        "        }\n",
        "\n",
        "\n",
        "g = graph(graph_elements)\n",
        "\n",
        "print(g.edges())"
      ],
      "metadata": {
        "colab": {
          "base_uri": "https://localhost:8080/"
        },
        "id": "fyBJv1AoLx4O",
        "outputId": "ef736bb6-df74-4b50-f53a-6a8eda159a12"
      },
      "execution_count": 52,
      "outputs": [
        {
          "output_type": "stream",
          "name": "stdout",
          "text": [
            "[{'T', 'U'}, {'T', 'W'}, {'T', 'U'}, {'V', 'U'}, {'U', 'V'}, {'X', 'V'}, {'X', 'S'}, {'Z', 'W'}, {'X', 'S'}]\n"
          ]
        }
      ]
    },
    {
      "cell_type": "code",
      "source": [
        "class graph:\n",
        "    def __init__(self,gdict=None):\n",
        "        if gdict is None:\n",
        "            gdict = {}\n",
        "        self.gdict = gdict\n",
        "\n",
        "    def edges(self): \n",
        "        return self.findedges()\n",
        "\n",
        "#find the distinc list of edges\n",
        "    def findedges(self):\n",
        "        edgename = []\n",
        "        for vrtx in self.gdict:\n",
        "            for nxtvrtx in self.gdict[vrtx]:\n",
        "              if (nxtvrtx, vrtx) not in edgename:\n",
        "                edgename.append({vrtx, nxtvrtx})\n",
        "        return edgename\n",
        "\n",
        "#create the dictionary with graph elements\n",
        "graph_elements = {\"R\" : [\"O\", \"L\"],\n",
        "         \"O\" : [\"R\", \"P\"],\n",
        "         \"M\" : [\"O\", \"N\"],\n",
        "         \"L\" : [\"R\", \"P\"],\n",
        "         \"P\" : [\"O\", \"N\"],\n",
        "         \"N\" : [\"P\", \"M\"],\n",
        "         }\n",
        "\n",
        "g = graph(graph_elements)\n",
        "\n",
        "print(g.edges())"
      ],
      "metadata": {
        "colab": {
          "base_uri": "https://localhost:8080/"
        },
        "id": "H4xLFnDVL4Zy",
        "outputId": "254bed70-0bc3-44a5-ba05-4a0ecb94e0f6"
      },
      "execution_count": 53,
      "outputs": [
        {
          "output_type": "stream",
          "name": "stdout",
          "text": [
            "[{'R', 'O'}, {'R', 'L'}, {'R', 'O'}, {'O', 'P'}, {'M', 'O'}, {'M', 'N'}, {'R', 'L'}, {'P', 'L'}, {'O', 'P'}, {'N', 'P'}, {'N', 'P'}, {'M', 'N'}]\n"
          ]
        }
      ]
    },
    {
      "cell_type": "code",
      "source": [
        "class graph:\n",
        "    def __init__(self,gdict=None):\n",
        "        if gdict is None:\n",
        "            gdict = {}\n",
        "        self.gdict = gdict\n",
        "\n",
        "    def getVertices(self):\n",
        "        return list(self.gdict.keys())\n",
        "\n",
        "#Add the vertex as a key\n",
        "    def addVertex(self, vrtx):\n",
        "       if vrtx not in self.gdict:\n",
        "            self.gdict[vrtx] = []\n",
        "\n",
        "#Create the dictionary with graph elements\n",
        "graph_elements = {\"a\" : [\"b\", \"c\"],\n",
        "         \"b\" : [\"a\", \"d\"],\n",
        "         \"c\" : [\"a\", \"d\"],\n",
        "         \"d\" : [\"e\"],\n",
        "         \"e\" : [\"d\"]\n",
        "         }\n",
        "\n",
        "\n",
        "g = graph(graph_elements)\n",
        "\n",
        "g.addVertex(\"f\")\n",
        "\n",
        "print(g.getVertices())"
      ],
      "metadata": {
        "colab": {
          "base_uri": "https://localhost:8080/"
        },
        "id": "C-gjNltnMull",
        "outputId": "56217622-3757-469b-aef7-b89cef6c8b27"
      },
      "execution_count": 54,
      "outputs": [
        {
          "output_type": "stream",
          "name": "stdout",
          "text": [
            "['a', 'b', 'c', 'd', 'e', 'f']\n"
          ]
        }
      ]
    },
    {
      "cell_type": "code",
      "source": [
        "class graph:\n",
        "    def __init__(self,gdict=None):\n",
        "        if gdict is None:\n",
        "            gdict = {}\n",
        "        self.gdict = gdict\n",
        "\n",
        "    def getVertices(self):\n",
        "        return list(self.gdict.keys())\n",
        "\n",
        "#Add the vertex as a key\n",
        "    def addVertex(self, vrtx):\n",
        "       if vrtx not in self.gdict:\n",
        "            self.gdict[vrtx] = []\n",
        "\n",
        "#Create the dictionary with graph elements\n",
        "graph_elements = {\"T\" : [\"U\", \"W\"],\n",
        "         \"U\" : [\"T\", \"V\"],\n",
        "         \"V\" : [\"U\", \"X\"],\n",
        "         \"X\" : [\"V\", \"W\"],\n",
        "         \"W\" : [\"T\", \"Z\"],\n",
        "         \"W\" : [\"X\", \"Z\"],\n",
        "         \"W\" : [\"Z\"],\n",
        "         \"X\" : [\"W\", \"S\"],\n",
        "         \"X\" : [\"S\"],\n",
        "         \"S\" : [\"X\"]\n",
        "        }\n",
        "\n",
        "g = graph(graph_elements)\n",
        "\n",
        "g.addVertex(\"f\")\n",
        "\n",
        "print(g.getVertices())"
      ],
      "metadata": {
        "colab": {
          "base_uri": "https://localhost:8080/"
        },
        "id": "UV0wSiljNqcs",
        "outputId": "5d868012-3ab7-4363-a5cc-064f9a4657b8"
      },
      "execution_count": 55,
      "outputs": [
        {
          "output_type": "stream",
          "name": "stdout",
          "text": [
            "['T', 'U', 'V', 'X', 'W', 'S', 'f']\n"
          ]
        }
      ]
    },
    {
      "cell_type": "code",
      "source": [
        "class graph:\n",
        "    def __init__(self,gdict=None):\n",
        "        if gdict is None:\n",
        "            gdict = {}\n",
        "        self.gdict = gdict\n",
        "\n",
        "    def getVertices(self):\n",
        "        return list(self.gdict.keys())\n",
        "\n",
        "#Add the vertex as a key\n",
        "    def addVertex(self, vrtx):\n",
        "       if vrtx not in self.gdict:\n",
        "            self.gdict[vrtx] = []\n",
        "\n",
        "#Create the dictionary with graph elements\n",
        "graph_elements = {\"R\" : [\"O\", \"L\"],\n",
        "         \"O\" : [\"R\", \"P\"],\n",
        "         \"M\" : [\"O\", \"N\"],\n",
        "         \"L\" : [\"R\", \"P\"],\n",
        "         \"P\" : [\"O\", \"N\"],\n",
        "         \"N\" : [\"P\", \"M\"],\n",
        "         }\n",
        "\n",
        "\n",
        "g = graph(graph_elements)\n",
        "\n",
        "g.addVertex(\"f\")\n",
        "\n",
        "print(g.getVertices())"
      ],
      "metadata": {
        "colab": {
          "base_uri": "https://localhost:8080/"
        },
        "id": "G-1oa5LANwP6",
        "outputId": "a11b2a97-1a8c-49d3-953a-08273115db0f"
      },
      "execution_count": 56,
      "outputs": [
        {
          "output_type": "stream",
          "name": "stdout",
          "text": [
            "['R', 'O', 'M', 'L', 'P', 'N', 'f']\n"
          ]
        }
      ]
    },
    {
      "cell_type": "code",
      "source": [
        "class graph:\n",
        "    def __init__(self,gdict=None):\n",
        "        if gdict is None:\n",
        "            gdict = {}\n",
        "        self.gdict = gdict\n",
        "\n",
        "    def edges(self): \n",
        "        return self.findedges()\n",
        "\n",
        "#Add the new edge\n",
        "\n",
        "    def AddEdge(self, edge):\n",
        "        edge = set(edge)\n",
        "        (vrtx1, vrtx2) = tuple(edge)\n",
        "        if vrtx1 in self.gdict:\n",
        "            self.gdict[vrtx1].append(vrtx2)\n",
        "        else:\n",
        "            self.gdict[vrtx1] = [vrtx2]\n",
        "\n",
        "#list the edge names\n",
        "    def findedges(self):\n",
        "        edgename = []\n",
        "        for vrtx in self.gdict:\n",
        "            for nxtvrtx in self.gdict[vrtx]:\n",
        "                if {nxtvrtx, vrtx} not in edgename:\n",
        "                    edgename.append({vrtx, nxtvrtx})\n",
        "            return edgename\n",
        "\n",
        "#Create the dictionary with graphy elements\n",
        "graph_elements = {\"a\" : [\"b\", \"c\"],\n",
        "                \"b\" : [\"a\", \"d\"],\n",
        "                \"c\" : [\"a\", \"d\"],\n",
        "                \"d\" : [\"e\"],\n",
        "                \"e\" : [\"d\"] \n",
        "                }\n",
        "\n",
        "g = graph(graph_elements)\n",
        "g.AddEdge({'a','e'})\n",
        "g.AddEdge({'a','c'})\n",
        "print(g.edges())"
      ],
      "metadata": {
        "colab": {
          "base_uri": "https://localhost:8080/"
        },
        "id": "Mp8UMIqSN2fO",
        "outputId": "f24bdca6-0056-4653-bd72-608ed869b02f"
      },
      "execution_count": 57,
      "outputs": [
        {
          "output_type": "stream",
          "name": "stdout",
          "text": [
            "[{'a', 'b'}, {'a', 'c'}, {'a', 'e'}]\n"
          ]
        }
      ]
    },
    {
      "cell_type": "code",
      "source": [
        "class graph:\n",
        "    def __init__(self,gdict=None):\n",
        "        if gdict is None:\n",
        "            gdict = {}\n",
        "        self.gdict = gdict\n",
        "\n",
        "    def edges(self): \n",
        "        return self.findedges()\n",
        "\n",
        "#Add the new edge\n",
        "\n",
        "    def AddEdge(self, edge):\n",
        "        edge = set(edge)\n",
        "        (vrtx1, vrtx2) = tuple(edge)\n",
        "        if vrtx1 in self.gdict:\n",
        "            self.gdict[vrtx1].append(vrtx2)\n",
        "        else:\n",
        "            self.gdict[vrtx1] = [vrtx2]\n",
        "\n",
        "#list the edge names\n",
        "    def findedges(self):\n",
        "        edgename = []\n",
        "        for vrtx in self.gdict:\n",
        "            for nxtvrtx in self.gdict[vrtx]:\n",
        "                if {nxtvrtx, vrtx} not in edgename:\n",
        "                    edgename.append({vrtx, nxtvrtx})\n",
        "            return edgename\n",
        "\n",
        "#Create the dictionary with graphy elements\n",
        "graph_elements = {\"T\" : [\"U\", \"W\"],\n",
        "         \"U\" : [\"T\", \"V\"],\n",
        "         \"V\" : [\"U\", \"X\"],\n",
        "         \"X\" : [\"V\", \"W\"],\n",
        "         \"W\" : [\"T\", \"Z\"],\n",
        "         \"W\" : [\"X\", \"Z\"],\n",
        "         \"W\" : [\"Z\"],\n",
        "         \"X\" : [\"W\", \"S\"],\n",
        "         \"X\" : [\"S\"],\n",
        "         \"S\" : [\"X\"]\n",
        "        }\n",
        "\n",
        "g = graph(graph_elements)\n",
        "g.AddEdge({'a','e'})\n",
        "g.AddEdge({'a','c'})\n",
        "print(g.edges())"
      ],
      "metadata": {
        "colab": {
          "base_uri": "https://localhost:8080/"
        },
        "id": "0MtTOecPQ-f7",
        "outputId": "db0aea6a-1834-472b-deea-af664ccd81a5"
      },
      "execution_count": 58,
      "outputs": [
        {
          "output_type": "stream",
          "name": "stdout",
          "text": [
            "[{'T', 'U'}, {'T', 'W'}]\n"
          ]
        }
      ]
    },
    {
      "cell_type": "code",
      "source": [
        "class graph:\n",
        "    def __init__(self,gdict=None):\n",
        "        if gdict is None:\n",
        "            gdict = {}\n",
        "        self.gdict = gdict\n",
        "\n",
        "    def edges(self): \n",
        "        return self.findedges()\n",
        "\n",
        "#Add the new edge\n",
        "\n",
        "    def AddEdge(self, edge):\n",
        "        edge = set(edge)\n",
        "        (vrtx1, vrtx2) = tuple(edge)\n",
        "        if vrtx1 in self.gdict:\n",
        "            self.gdict[vrtx1].append(vrtx2)\n",
        "        else:\n",
        "            self.gdict[vrtx1] = [vrtx2]\n",
        "\n",
        "#list the edge names\n",
        "    def findedges(self):\n",
        "        edgename = []\n",
        "        for vrtx in self.gdict:\n",
        "            for nxtvrtx in self.gdict[vrtx]:\n",
        "                if {nxtvrtx, vrtx} not in edgename:\n",
        "                    edgename.append({vrtx, nxtvrtx})\n",
        "            return edgename\n",
        "\n",
        "#Create the dictionary with graphy elements\n",
        "graph_elements = {\"R\" : [\"O\", \"L\"],\n",
        "         \"O\" : [\"R\", \"P\"],\n",
        "         \"M\" : [\"O\", \"N\"],\n",
        "         \"L\" : [\"R\", \"P\"],\n",
        "         \"P\" : [\"O\", \"N\"],\n",
        "         \"N\" : [\"P\", \"M\"],\n",
        "         }\n",
        "\n",
        "\n",
        "\n",
        "g = graph(graph_elements)\n",
        "g.AddEdge({'a','e'})\n",
        "g.AddEdge({'a','c'})\n",
        "print(g.edges())"
      ],
      "metadata": {
        "colab": {
          "base_uri": "https://localhost:8080/"
        },
        "id": "4JDdRzbDREsh",
        "outputId": "a4db6c7e-d35d-4f5f-b9a6-0161544a5e0e"
      },
      "execution_count": 59,
      "outputs": [
        {
          "output_type": "stream",
          "name": "stdout",
          "text": [
            "[{'R', 'O'}, {'R', 'L'}]\n"
          ]
        }
      ]
    }
  ]
}